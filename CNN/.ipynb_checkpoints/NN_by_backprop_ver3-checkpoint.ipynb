{
 "cells": [
  {
   "cell_type": "code",
   "execution_count": 1,
   "metadata": {},
   "outputs": [],
   "source": [
    "using Images\n",
    "using Distributions"
   ]
  },
  {
   "cell_type": "code",
   "execution_count": 2,
   "metadata": {},
   "outputs": [
    {
     "data": {
      "text/plain": [
       "firstbackprop (generic function with 1 method)"
      ]
     },
     "execution_count": 2,
     "metadata": {},
     "output_type": "execute_result"
    }
   ],
   "source": [
    "#出力層と隣接しているbackprop\n",
    "function back_prop(l,δ,w,w_new,u,unit_sum,z,output_vector_size)\n",
    "    for j in 1:unit_sum\n",
    "        sum=0.0\n",
    "        for  k  in 1:output_vector_size #outputvector\n",
    "            sum=δ[l+1,k]*w[l+1,k,j]*dReLU(u[l,j])\n",
    "        end\n",
    "        δ[l,j]=sum\n",
    "    end\n",
    "    #incline=similar(w[l,:,:])\n",
    "    incline=δ[l,:]*z[l-1,:]'\n",
    "    #パラメータ更新\n",
    "    η=0.1\n",
    "    dw=-η*incline\n",
    "    w_new[l,:,:]=w[l,:,:]+dw\n",
    "end\n",
    "#通常のbackprop\n",
    "function back_prop(l,δ,w,w_new,u,unit_sum,z)\n",
    "    for j in 1:unit_sum\n",
    "        sum=0.0\n",
    "        for  k  in 1:unit_sum\n",
    "            sum=δ[l+1,k]*w[l+1,k,j]*dReLU(u[l,j])\n",
    "        end\n",
    "        δ[l,j]=sum\n",
    "    end\n",
    "    #incline=similar(w[l,:,:])\n",
    "    incline=δ[l,:]*z[l-1,:]'\n",
    "    #パラメータ更新\n",
    "    η=0.1\n",
    "    dw=-η*incline\n",
    "    w_new[l,:,:]=w[l,:,:]+dw\n",
    "end\n",
    "#勾配の初期値\n",
    "function firstbackprop(l,δ,w,w_new,u,z,output_vector_size,train)\n",
    "    for j in 1:output_vector_size\n",
    "        δ[l,1:output_vector_size]=z[l,1:output_vector_size]-train\n",
    "    end\n",
    "    incline=δ[l,1:output_vector_size]*z[l-1,:]'\n",
    "     #パラメータ更新\n",
    "    η=0.01\n",
    "    dw=-η*incline\n",
    "    w_new[l,1:output_vector_size,:]=w[l,1:output_vector_size,:]+dw\n",
    "end"
   ]
  },
  {
   "cell_type": "code",
   "execution_count": 3,
   "metadata": {},
   "outputs": [
    {
     "data": {
      "text/plain": [
       "first_conv_back_prop (generic function with 1 method)"
      ]
     },
     "execution_count": 3,
     "metadata": {},
     "output_type": "execute_result"
    }
   ],
   "source": [
    "#全結合層の手前のプーリング層の誤差\n",
    "function back_prop_Nonparam(l,δ,w,w_new,u,unit_sum,z)\n",
    "    for j in 1:unit_sum\n",
    "        sum=0.0\n",
    "        for  k  in 1:unit_sum\n",
    "            sum=δ[l+1,k]*w[l+1,k,j]*1\n",
    "        end\n",
    "        δ[l,j]=sum\n",
    "    end\n",
    "    #incline=similar(w[l,:,:])\n",
    "    #incline=δ[l,:]*z[l-1,:]'\n",
    "    #パラメータ更新\n",
    "    #η=0.1\n",
    "    #dw=-η*incline\n",
    "    #w_new[l,:,:]=w[l,:,:]+dw\n",
    "end\n",
    "\n",
    "#プーリング層の手前のユニットの誤差計算と重み更新\n",
    "function first_conv_back_prop(l,δ,w,w_new,u,P,datay,datax,p_layer_num)\n",
    "    i=1\n",
    "    j=1\n",
    "    for l in 1:datax\n",
    "        for q in 1:P\n",
    "            for k in 1:datay #このデータサイズはl+1のもの\n",
    "                for p in 1:P\n",
    "                    \n",
    "                    δ_conv[l,i,j]+=δ_conv[l+1,k,l]*w[p_layer_num,k,l]*dReLU(u[l,i,j])\n",
    "                    \n",
    "                    i+=1\n",
    "                end\n",
    "            end\n",
    "            j+=1\n",
    "        end\n",
    "    end\n",
    "end\n"
   ]
  },
  {
   "cell_type": "code",
   "execution_count": 4,
   "metadata": {},
   "outputs": [
    {
     "data": {
      "text/plain": [
       "ReLU (generic function with 1 method)"
      ]
     },
     "execution_count": 4,
     "metadata": {},
     "output_type": "execute_result"
    }
   ],
   "source": [
    "function ReLU(x)\n",
    "    if(x>0)\n",
    "        return x\n",
    "    else\n",
    "        return 0.0\n",
    "    end\n",
    "end"
   ]
  },
  {
   "cell_type": "code",
   "execution_count": 5,
   "metadata": {},
   "outputs": [],
   "source": [
    "m=Normal(0,1.0)\n",
    "rand(m,4,4);"
   ]
  },
  {
   "cell_type": "code",
   "execution_count": 6,
   "metadata": {},
   "outputs": [
    {
     "data": {
      "text/plain": [
       "dReLU (generic function with 1 method)"
      ]
     },
     "execution_count": 6,
     "metadata": {},
     "output_type": "execute_result"
    }
   ],
   "source": [
    "function dReLU(x)\n",
    "    if(x>0)\n",
    "        return 1.0\n",
    "        else\n",
    "        return 0.0\n",
    "    end\n",
    "end"
   ]
  },
  {
   "cell_type": "code",
   "execution_count": 7,
   "metadata": {},
   "outputs": [
    {
     "data": {
      "text/plain": [
       "softmax (generic function with 1 method)"
      ]
     },
     "execution_count": 7,
     "metadata": {},
     "output_type": "execute_result"
    }
   ],
   "source": [
    "#function softmax(u::Array,output_vector_size)\n",
    "#    z=similar(u)\n",
    "#    u_sum=sum(exp.(u-maximum(u)))\n",
    "#    for k in 1:output_vector_size\n",
    "#        z[k]=exp(u[k]-maximum(u))/u_sum\n",
    "#    end\n",
    "#    return z\n",
    "#end\n",
    "function softmax(u::Array,output_vector_size)\n",
    "    z=similar(u)\n",
    "    u_sum=sum(exp.(u))\n",
    "    for k in 1:output_vector_size\n",
    "        z[k]=exp(u[k])/u_sum\n",
    "    end\n",
    "    return z\n",
    "end"
   ]
  },
  {
   "cell_type": "code",
   "execution_count": 8,
   "metadata": {},
   "outputs": [
    {
     "data": {
      "text/plain": [
       "nuwral_net (generic function with 2 methods)"
      ]
     },
     "execution_count": 8,
     "metadata": {},
     "output_type": "execute_result"
    }
   ],
   "source": [
    "#畳み込み層\n",
    "function convolution(l)\n",
    "    x=Int(0)\n",
    "    y=Int(0)\n",
    "    for si in 0:S:datay-H\n",
    "        y+=1\n",
    "        x=0\n",
    "        for sj in 0:S:datax-H\n",
    "            x+=1\n",
    "            for k in 1:K\n",
    "                for i in 1:H\n",
    "                    for j in 1:H\n",
    "                        u[l,y,x]+=imgdata[k,i+si,j+sj]*h[i,j]+b[l,y,x]\n",
    "                    end\n",
    "                end\n",
    "            end\n",
    "            z[l,y,x]=ReLU(u[l,y,x])\n",
    "        end\n",
    "    end\n",
    "    return z\n",
    "end\n",
    "#チャネルなし　2回め以降\n",
    "function convolution(l,u::Array, z::Array)\n",
    "    x=Int(0)\n",
    "    y=Int(0)\n",
    "    for si in 0:S:datay-H\n",
    "        y+=1\n",
    "        x=0\n",
    "        for sj in 0:S:datax-H\n",
    "            x+=1\n",
    "                for i in 1:H\n",
    "                    for j in 1:H\n",
    "                        u[l,y,x]+=z[l-1,i+si,j+sj]*h[i,j]+b[l,y,x]\n",
    "                    end\n",
    "                end\n",
    "            z[l,y,x]=ReLU(u[l,y,x])\n",
    "        end\n",
    "    end\n",
    "    return z\n",
    "end\n",
    "\n",
    "function nuwral_net(l,z::Array,u,w)\n",
    "    u[l,:]=w[l,:,:]*z[l-1,:]\n",
    "    z[l,:]=ReLU.(u[l,:])\n",
    "    return z\n",
    "end\n",
    "\n",
    "function nuwral_net(l,z::Array,u,w,output_vector_size)\n",
    "    u[l,1:output_vector_size]=w[l,1:output_vector_size,:]*z[l-1,:]\n",
    "    z[l,1:output_vector_size]=softmax(u[l,1:output_vector_size],output_vector_size)\n",
    "    return z\n",
    "end"
   ]
  },
  {
   "cell_type": "code",
   "execution_count": 9,
   "metadata": {},
   "outputs": [
    {
     "data": {
      "text/plain": [
       "maxpooling (generic function with 1 method)"
      ]
     },
     "execution_count": 9,
     "metadata": {},
     "output_type": "execute_result"
    }
   ],
   "source": [
    "function maxpooling(l,z,w,p_layer_num)\n",
    "    x=Int(0)\n",
    "    y=Int(0)\n",
    "    for si in 0:S:datay-P\n",
    "        y+=1\n",
    "        x=0\n",
    "        for sj in 0:S:datax-P\n",
    "            x+=1\n",
    "            z[l,y,x]=maximum(z[l-1,1+si:P+si,1+sj:P+sj])\n",
    "            #一番大きい要素を持つ番号を求めて代入する\n",
    "            for k in 1+si:P+si\n",
    "                for t in 1+sj:P+sj\n",
    "                    if(z[l-1,k,t]==z[l,y,x])\n",
    "                        w[p_layer_num,k,t]=1.0\n",
    "                    end\n",
    "                end\n",
    "            end\n",
    "        end\n",
    "    end\n",
    "    return z\n",
    "end"
   ]
  },
  {
   "cell_type": "code",
   "execution_count": 10,
   "metadata": {},
   "outputs": [],
   "source": [
    "#チャネル数\n",
    "K=3 #RGB\n",
    "train=[0.0 for i in 1:40]\n",
    "train[38]=1.0\n",
    "data=load(\"phot/1berserk.jpg\")\n",
    "datax=3406 #画像サイズ\n",
    "datay=3406\n",
    "const Layernum=21\n",
    "imgdata_raw=channelview(data) #[RGB,4608,3456]\n",
    "imgdata=zeros(K,datay,datax);"
   ]
  },
  {
   "cell_type": "code",
   "execution_count": 11,
   "metadata": {},
   "outputs": [],
   "source": [
    "#データの正規化\n",
    "#分散を1に\n",
    "#平均を0に\n",
    "for k in 1:K\n",
    "    datasum=sum(imgdata_raw[k,1:datay,1:datax])\n",
    "    offset=datasum/(datax*datay)\n",
    "    de=0.0\n",
    "    for i in 1:datay\n",
    "        for j  in 1:datax\n",
    "            de+=(imgdata_raw[k,i,j]-offset)^2\n",
    "        end\n",
    "    end\n",
    "    de=sqrt(de/(datay*datax))\n",
    "    imgdata[k,:,:]=(imgdata_raw[k,1:datay,1:datax]-offset)/de\n",
    "end"
   ]
  },
  {
   "cell_type": "code",
   "execution_count": 12,
   "metadata": {
    "scrolled": true
   },
   "outputs": [],
   "source": [
    "#first convolition layer\n",
    "#factorizing convolution\n",
    "H=3 #size H*H \n",
    "S=1 #stride\n",
    "#valid padding\n",
    "h=rand(m,H,H)*sqrt(2/(H*H)) #weight #He\n",
    "b=rand(m,Layernum,Int((datay-H)/S+1),Int((datax-H)/S+1)) #bias\n",
    "z=zeros(Float32,Layernum,Int((datay-H)/S+1),Int((datax-H)/S+1))\n",
    "u=zeros(z)\n",
    "total_p_layer=8\n",
    "pooling_w=zeros(total_p_layer,datay,datax) #プーリング層の重み;"
   ]
  },
  {
   "cell_type": "code",
   "execution_count": 13,
   "metadata": {},
   "outputs": [
    {
     "name": "stdout",
     "output_type": "stream",
     "text": [
      "127.980981 seconds (5.00 G allocations: 83.689 GB, 4.89% gc time)\n"
     ]
    }
   ],
   "source": [
    "#畳み込み層1-1 第2層\n",
    "l=2\n",
    "@time z=convolution(l);"
   ]
  },
  {
   "cell_type": "code",
   "execution_count": 14,
   "metadata": {},
   "outputs": [
    {
     "name": "stdout",
     "output_type": "stream",
     "text": [
      " 45.147258 seconds (1.18 G allocations: 24.297 GB, 4.51% gc time)\n"
     ]
    }
   ],
   "source": [
    "#パラメータ更新\n",
    "datax=Int(1+(datax-H)/S)\n",
    "datay=Int(1+(datay-H)/S)\n",
    "H=3\n",
    "h=rand(m,H,H)*sqrt(2/(H*H)) #weight #He\n",
    "S=1\n",
    "l=3\n",
    "#畳み込み層1-2  第3層\n",
    "@time z=convolution(l,u,z);"
   ]
  },
  {
   "cell_type": "code",
   "execution_count": 15,
   "metadata": {},
   "outputs": [
    {
     "name": "stdout",
     "output_type": "stream",
     "text": [
      "  3.371512 seconds (97.40 M allocations: 1.951 GB, 6.11% gc time)\n"
     ]
    }
   ],
   "source": [
    "#プーリング層 第4層\n",
    "#パラメータ更新\n",
    "datax=Int(1+(datax-H)/S)\n",
    "datay=Int(1+(datay-H)/S)\n",
    "S=3\n",
    "P=3　#プーリングサイズ　P*P\n",
    "p_layer_num=1\n",
    "l=4\n",
    "@time z=maxpooling(l,z,pooling_w,p_layer_num);"
   ]
  },
  {
   "cell_type": "code",
   "execution_count": 16,
   "metadata": {
    "scrolled": true
   },
   "outputs": [
    {
     "name": "stdout",
     "output_type": "stream",
     "text": [
      "  7.834294 seconds (244.73 M allocations: 4.142 GB, 4.66% gc time)\n"
     ]
    }
   ],
   "source": [
    "#畳み込み層2-1 第5層\n",
    "datax=Int(1+(datax-P)/S)\n",
    "datay=Int(1+(datay-P)/S)\n",
    "H=4\n",
    "h=rand(m,H,H)*sqrt(2/(H*H)) #weight #He\n",
    "S=1\n",
    "l=5\n",
    "@time z=convolution(l,u,z);"
   ]
  },
  {
   "cell_type": "code",
   "execution_count": 17,
   "metadata": {},
   "outputs": [
    {
     "name": "stdout",
     "output_type": "stream",
     "text": [
      "  7.826313 seconds (243.97 M allocations: 4.638 GB, 4.65% gc time)\n"
     ]
    }
   ],
   "source": [
    "#畳み込み層2-2 第6層\n",
    "datax=Int(1+(datax-H)/S)\n",
    "datay=Int(1+(datay-H)/S)\n",
    "H=4\n",
    "h=rand(m,H,H)*sqrt(2/(H*H)) #weight #He\n",
    "S=1\n",
    "l=6\n",
    "@time z=convolution(l,u,z);"
   ]
  },
  {
   "cell_type": "code",
   "execution_count": 18,
   "metadata": {},
   "outputs": [
    {
     "name": "stdout",
     "output_type": "stream",
     "text": [
      "  0.522163 seconds (12.02 M allocations: 265.899 MB, 7.04% gc time)\n"
     ]
    }
   ],
   "source": [
    "#プーリング層 第7層\n",
    "#パラメータ更新\n",
    "datax=Int(1+(datax-H)/S)\n",
    "datay=Int(1+(datay-H)/S)\n",
    "S=2\n",
    "P=2　#プーリングサイズ　P*P\n",
    "l=7\n",
    "p_layer_num=2\n",
    "@time z=maxpooling(l,z,pooling_w,p_layer_num);"
   ]
  },
  {
   "cell_type": "code",
   "execution_count": 19,
   "metadata": {},
   "outputs": [
    {
     "name": "stdout",
     "output_type": "stream",
     "text": [
      "  8.187357 seconds (240.26 M allocations: 4.045 GB, 4.18% gc time)\n"
     ]
    }
   ],
   "source": [
    "#畳み込み層3-1 第8層\n",
    "datax=Int(1+(datax-P)/S)\n",
    "datay=Int(1+(datay-P)/S)\n",
    "H=9\n",
    "h=rand(m,H,H)*sqrt(2/(H*H)) #weight #He\n",
    "S=1\n",
    "l=8\n",
    "@time z=convolution(l,u,z)\n",
    ";"
   ]
  },
  {
   "cell_type": "code",
   "execution_count": 20,
   "metadata": {},
   "outputs": [
    {
     "name": "stdout",
     "output_type": "stream",
     "text": [
      "  7.956925 seconds (232.12 M allocations: 3.911 GB, 4.18% gc time)\n"
     ]
    }
   ],
   "source": [
    "#畳み込み層3-2 第9層\n",
    "datax=Int(1+(datax-H)/S)\n",
    "datay=Int(1+(datay-H)/S)\n",
    "H=9\n",
    "h=rand(m,H,H)*sqrt(2/(H*H)) #weight #He\n",
    "S=1\n",
    "l=9\n",
    "@time z=convolution(l,u,z)\n",
    ";"
   ]
  },
  {
   "cell_type": "code",
   "execution_count": 21,
   "metadata": {},
   "outputs": [
    {
     "name": "stdout",
     "output_type": "stream",
     "text": [
      "  7.726551 seconds (224.17 M allocations: 3.779 GB, 4.25% gc time)\n"
     ]
    }
   ],
   "source": [
    "#畳み込み層3-3 第10層\n",
    "datax=Int(1+(datax-H)/S)\n",
    "datay=Int(1+(datay-H)/S)\n",
    "H=9\n",
    "h=rand(m,H,H)*sqrt(2/(H*H)) #weight #He\n",
    "S=1\n",
    "l=10\n",
    "@time z=convolution(l,u,z)\n",
    ";"
   ]
  },
  {
   "cell_type": "code",
   "execution_count": 22,
   "metadata": {},
   "outputs": [
    {
     "name": "stdout",
     "output_type": "stream",
     "text": [
      "  0.115706 seconds (1.78 M allocations: 46.135 MB, 5.64% gc time)\n"
     ]
    }
   ],
   "source": [
    "#プーリング層 第11層\n",
    "#パラメータ更新\n",
    "datax=Int(1+(datax-H)/S)\n",
    "datay=Int(1+(datay-H)/S)\n",
    "S=2\n",
    "P=2　#プーリングサイズ　P*P\n",
    "l=11\n",
    "p_layer_num=3\n",
    "@time z=maxpooling(l,z,pooling_w,p_layer_num);"
   ]
  },
  {
   "cell_type": "code",
   "execution_count": 23,
   "metadata": {},
   "outputs": [
    {
     "name": "stdout",
     "output_type": "stream",
     "text": [
      "  4.620925 seconds (134.81 M allocations: 2.260 GB, 4.26% gc time)\n"
     ]
    }
   ],
   "source": [
    "#畳み込み層4-1 第12層\n",
    "datax=Int(1+(datax-P)/S)\n",
    "datay=Int(1+(datay-P)/S)\n",
    "H=15\n",
    "h=rand(m,H,H)*sqrt(2/(H*H)) #weight #He\n",
    "S=1\n",
    "l=12\n",
    "@time z=convolution(l,u,z)\n",
    ";"
   ]
  },
  {
   "cell_type": "code",
   "execution_count": 24,
   "metadata": {},
   "outputs": [
    {
     "name": "stdout",
     "output_type": "stream",
     "text": [
      "  4.130488 seconds (120.50 M allocations: 2.020 GB, 4.14% gc time)\n"
     ]
    }
   ],
   "source": [
    "#畳み込み層4-2 第13層\n",
    "datax=Int(1+(datax-H)/S)\n",
    "datay=Int(1+(datay-H)/S)\n",
    "H=15\n",
    "h=rand(m,H,H)*sqrt(2/(H*H)) #weight #He\n",
    "S=1\n",
    "l=13\n",
    "@time z=convolution(l,u,z)\n",
    ";"
   ]
  },
  {
   "cell_type": "code",
   "execution_count": 25,
   "metadata": {},
   "outputs": [
    {
     "name": "stdout",
     "output_type": "stream",
     "text": [
      "  3.666752 seconds (106.95 M allocations: 1.793 GB, 4.18% gc time)\n"
     ]
    }
   ],
   "source": [
    "#畳み込み層4-3第14層\n",
    "datax=Int(1+(datax-H)/S)\n",
    "datay=Int(1+(datay-H)/S)\n",
    "H=15\n",
    "h=rand(m,H,H)*sqrt(2/(H*H)) #weight #He\n",
    "S=1\n",
    "l=14\n",
    "@time z=convolution(l,u,z)\n",
    ";"
   ]
  },
  {
   "cell_type": "code",
   "execution_count": 26,
   "metadata": {},
   "outputs": [
    {
     "name": "stdout",
     "output_type": "stream",
     "text": [
      "  0.024770 seconds (299.14 k allocations: 7.939 MB, 12.18% gc time)\n"
     ]
    }
   ],
   "source": [
    "#プーリング層 第15層\n",
    "#パラメータ更新\n",
    "datax=Int(1+(datax-H)/S)\n",
    "datay=Int(1+(datay-H)/S)\n",
    "S=2\n",
    "P=2　#プーリングサイズ　P*P\n",
    "l=15\n",
    "p_layer_num=4\n",
    "@time z=maxpooling(l,z,pooling_w,p_layer_num);"
   ]
  },
  {
   "cell_type": "code",
   "execution_count": 27,
   "metadata": {},
   "outputs": [
    {
     "name": "stdout",
     "output_type": "stream",
     "text": [
      "  2.263468 seconds (66.76 M allocations: 1.105 GB, 4.11% gc time)\n"
     ]
    }
   ],
   "source": [
    "#畳み込み層5-1 第16層\n",
    "datax=Int(1+(datax-P)/S)\n",
    "datay=Int(1+(datay-P)/S)\n",
    "H=33\n",
    "h=rand(m,H,H)*sqrt(2/(H*H)) #weight #He\n",
    "S=1\n",
    "l=16\n",
    "@time z=convolution(l,u,z)\n",
    ";"
   ]
  },
  {
   "cell_type": "code",
   "execution_count": 28,
   "metadata": {},
   "outputs": [
    {
     "name": "stdout",
     "output_type": "stream",
     "text": [
      "  0.852992 seconds (24.67 M allocations: 420.633 MB, 4.56% gc time)\n"
     ]
    }
   ],
   "source": [
    "#畳み込み層5-2 第17層\n",
    "datax=Int(1+(datax-H)/S)\n",
    "datay=Int(1+(datay-H)/S)\n",
    "H=33\n",
    "h=rand(m,H,H)*sqrt(2/(H*H)) #weight #He\n",
    "S=1\n",
    "l=17\n",
    "@time z=convolution(l,u,z)\n",
    ";"
   ]
  },
  {
   "cell_type": "code",
   "execution_count": 29,
   "metadata": {},
   "outputs": [
    {
     "name": "stdout",
     "output_type": "stream",
     "text": [
      "  0.113691 seconds (3.20 M allocations: 54.514 MB, 3.18% gc time)\n"
     ]
    }
   ],
   "source": [
    "#畳み込み層5-3第18層\n",
    "datax=Int(1+(datax-H)/S)\n",
    "datay=Int(1+(datay-H)/S)\n",
    "H=33\n",
    "h=rand(m,H,H)*sqrt(2/(H*H)) #weight #He\n",
    "S=1\n",
    "l=18\n",
    "@time z=convolution(l,u,z)\n",
    ";"
   ]
  },
  {
   "cell_type": "code",
   "execution_count": 30,
   "metadata": {},
   "outputs": [
    {
     "name": "stdout",
     "output_type": "stream",
     "text": [
      "  0.000211 seconds (1.89 k allocations: 51.375 KB)\n"
     ]
    }
   ],
   "source": [
    "#プーリング層 第19層\n",
    "#パラメータ更新\n",
    "datax=Int(1+(datax-H)/S)\n",
    "datay=Int(1+(datay-H)/S)\n",
    "S=2\n",
    "P=2　#プーリングサイズ　P*P\n",
    "l=19\n",
    "p_layer_num=5\n",
    "@time z=maxpooling(l,z,pooling_w,p_layer_num);"
   ]
  },
  {
   "cell_type": "code",
   "execution_count": 31,
   "metadata": {},
   "outputs": [
    {
     "name": "stdout",
     "output_type": "stream",
     "text": [
      "  0.195035 seconds (228.72 k allocations: 9.728 MB)\n"
     ]
    }
   ],
   "source": [
    "#出力ベクトルサイズ\n",
    "FullyConnectLaynum=3\n",
    "output_vector_size=40\n",
    "output_vector=zeros(output_vector_size)\n",
    "\n",
    "#パラメータ更新\n",
    "datax=Int(1+(datax-P)/S)\n",
    "datay=Int(1+(datay-P)/S)\n",
    "u_fullyL=zeros(FullyConnectLaynum+1,datay*datax)\n",
    "fl=1\n",
    "z_fullyL=zeros(FullyConnectLaynum+1,datay*datax)\n",
    "z_fullyL[fl,:]=reshape(z[l,1:datay,1:datax],datay*datax,1) #2次元のデータをベクトルに変更\n",
    "δ=zeros(FullyConnectLaynum+1,datay*datax)\n",
    "δ_conv=zeros(z)\n",
    "\n",
    "#FullyConnectedLayer1　第20層\n",
    "fl=2\n",
    "#9に成\n",
    "w_fullyL=rand(m,FullyConnectLaynum+1,datay*datax,datay*datax)*sqrt(2/(datax*datay)) #weight #He #fullyLayerWeight\n",
    "w_fullyLnew=similar(w_fullyL)\n",
    "\n",
    "@time z_fullyL=nuwral_net(fl,z_fullyL,u_fullyL,w_fullyL);"
   ]
  },
  {
   "cell_type": "code",
   "execution_count": 32,
   "metadata": {
    "scrolled": true
   },
   "outputs": [
    {
     "name": "stdout",
     "output_type": "stream",
     "text": [
      "  0.000042 seconds (11 allocations: 54.438 KB)\n"
     ]
    }
   ],
   "source": [
    "#FullyConnectedLayer2　第21層\n",
    "#9に成\n",
    "fl=3\n",
    "@time z_fullyL=nuwral_net(fl,z_fullyL,u_fullyL,w_fullyL);"
   ]
  },
  {
   "cell_type": "code",
   "execution_count": 33,
   "metadata": {},
   "outputs": [
    {
     "name": "stdout",
     "output_type": "stream",
     "text": [
      "  0.119741 seconds (107.26 k allocations: 4.572 MB)\n"
     ]
    }
   ],
   "source": [
    "#FullyConnectedLayer3　第22層  OUTPUTLAYER\n",
    "#9に成\n",
    "fl=4\n",
    "@time z_fullyL=nuwral_net(fl,z_fullyL,u_fullyL,w_fullyL,output_vector_size);"
   ]
  },
  {
   "cell_type": "code",
   "execution_count": 35,
   "metadata": {},
   "outputs": [
    {
     "name": "stdout",
     "output_type": "stream",
     "text": [
      "  0.490084 seconds (534.34 k allocations: 19.288 MB, 1.42% gc time)\n"
     ]
    }
   ],
   "source": [
    "#全結合の更新\n",
    "@time firstbackprop(fl,δ,w_fullyL,w_fullyLnew,u_fullyL,z_fullyL, output_vector_size,train);"
   ]
  },
  {
   "cell_type": "code",
   "execution_count": 36,
   "metadata": {},
   "outputs": [
    {
     "name": "stdout",
     "output_type": "stream",
     "text": [
      "  0.063785 seconds (12.43 k allocations: 723.577 KB)\n"
     ]
    }
   ],
   "source": [
    "#全結合の更新\n",
    "fl=3\n",
    "@time back_prop(fl,δ,w_fullyL,w_fullyLnew,u_fullyL,datax*datay,z_fullyL, output_vector_size);"
   ]
  },
  {
   "cell_type": "code",
   "execution_count": 37,
   "metadata": {},
   "outputs": [
    {
     "name": "stdout",
     "output_type": "stream",
     "text": [
      "  0.031378 seconds (12.04 k allocations: 704.125 KB)\n"
     ]
    }
   ],
   "source": [
    "#全結合の更新\n",
    "fl=2\n",
    "@time back_prop(fl,δ,w_fullyL,w_fullyLnew,u_fullyL,datax*datay,z_fullyL);"
   ]
  },
  {
   "cell_type": "code",
   "execution_count": 38,
   "metadata": {},
   "outputs": [
    {
     "name": "stdout",
     "output_type": "stream",
     "text": [
      "  0.016308 seconds (3.83 k allocations: 175.766 KB)\n"
     ]
    }
   ],
   "source": [
    "#全結合の更新\n",
    "fl=1\n",
    "@time back_prop_Nonparam(fl,δ,w_fullyL,w_fullyLnew,u_fullyL,datax*datay,z_fullyL,);"
   ]
  },
  {
   "cell_type": "code",
   "execution_count": null,
   "metadata": {},
   "outputs": [],
   "source": [
    "#プーリング層の手前の層を更新\n",
    "δ_conv[l,1:datay,1:datax]=reshape(δ[fl,:],datay,datax)\n",
    "\n",
    "l=19\n",
    "P=2\n",
    "p_layer_num=5\n",
    "first_conv_back_prop(l,δ,w,w_new,u,P,datay,datax,p_layer_num)\n",
    "\n",
    "#datax=((datax-1)*S)+P #データサイズを戻していく\n"
   ]
  },
  {
   "cell_type": "code",
   "execution_count": null,
   "metadata": {},
   "outputs": [],
   "source": []
  }
 ],
 "metadata": {
  "kernelspec": {
   "display_name": "Julia 0.5.2",
   "language": "julia",
   "name": "julia-0.5"
  },
  "language_info": {
   "file_extension": ".jl",
   "mimetype": "application/julia",
   "name": "julia",
   "version": "0.5.2"
  }
 },
 "nbformat": 4,
 "nbformat_minor": 2
}
